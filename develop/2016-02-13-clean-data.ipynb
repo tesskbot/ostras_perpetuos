{
 "cells": [
  {
   "cell_type": "code",
   "execution_count": 64,
   "metadata": {
    "collapsed": true
   },
   "outputs": [],
   "source": [
    "import pandas as pd\n",
    "import re\n",
    "import requests\n",
    "\n",
    "from IPython.display import IFrame\n",
    "\n",
    "import folium"
   ]
  },
  {
   "cell_type": "code",
   "execution_count": 2,
   "metadata": {
    "collapsed": false
   },
   "outputs": [],
   "source": [
    "df = pd.read_excel('../data/one_dollar_oysters.xlsx')"
   ]
  },
  {
   "cell_type": "code",
   "execution_count": 85,
   "metadata": {
    "collapsed": false
   },
   "outputs": [
    {
     "data": {
      "text/html": [
       "<div>\n",
       "<table border=\"1\" class=\"dataframe\">\n",
       "  <thead>\n",
       "    <tr style=\"text-align: right;\">\n",
       "      <th></th>\n",
       "      <th>Name</th>\n",
       "      <th>Address</th>\n",
       "      <th>Phone</th>\n",
       "      <th>Hours</th>\n",
       "      <th>Notes</th>\n",
       "      <th>Verified</th>\n",
       "    </tr>\n",
       "  </thead>\n",
       "  <tbody>\n",
       "    <tr>\n",
       "      <th>67</th>\n",
       "      <td>Woodhouse Fish Company</td>\n",
       "      <td>1914 Fillmore St.</td>\n",
       "      <td>415-437-2722</td>\n",
       "      <td>Tues 11:30 - 10:00</td>\n",
       "      <td>NaN</td>\n",
       "      <td>NaN</td>\n",
       "    </tr>\n",
       "    <tr>\n",
       "      <th>68</th>\n",
       "      <td>Woodhouse Fish Company</td>\n",
       "      <td>2073 Market St.</td>\n",
       "      <td>415-437-2722</td>\n",
       "      <td>Tues 11:30 - 9:30</td>\n",
       "      <td>NaN</td>\n",
       "      <td>NaN</td>\n",
       "    </tr>\n",
       "  </tbody>\n",
       "</table>\n",
       "</div>"
      ],
      "text/plain": [
       "                      Name            Address         Phone  \\\n",
       "67  Woodhouse Fish Company  1914 Fillmore St.  415-437-2722   \n",
       "68  Woodhouse Fish Company    2073 Market St.  415-437-2722   \n",
       "\n",
       "                 Hours Notes Verified   \n",
       "67  Tues 11:30 - 10:00   NaN       NaN  \n",
       "68   Tues 11:30 - 9:30   NaN       NaN  "
      ]
     },
     "execution_count": 85,
     "metadata": {},
     "output_type": "execute_result"
    }
   ],
   "source": [
    "df.tail(n=2)"
   ]
  },
  {
   "cell_type": "code",
   "execution_count": 4,
   "metadata": {
    "collapsed": false
   },
   "outputs": [
    {
     "data": {
      "text/plain": [
       "(69, 6)"
      ]
     },
     "execution_count": 4,
     "metadata": {},
     "output_type": "execute_result"
    }
   ],
   "source": [
    "df.shape"
   ]
  },
  {
   "cell_type": "code",
   "execution_count": null,
   "metadata": {
    "collapsed": true
   },
   "outputs": [],
   "source": [
    "# Split df.Hours into days of week, start time, and end time (not done yet, obvs)\n",
    "re.compile('')\n",
    "df['days'] = df.Hours"
   ]
  },
  {
   "cell_type": "code",
   "execution_count": 36,
   "metadata": {
    "collapsed": false
   },
   "outputs": [],
   "source": [
    "f = open('/Users/tesskornfield/google_api_key.txt', 'r')\n",
    "GOOGLE_API_KEY = f.readline().rstrip()"
   ]
  },
  {
   "cell_type": "code",
   "execution_count": 104,
   "metadata": {
    "collapsed": false,
    "scrolled": false
   },
   "outputs": [],
   "source": [
    "lats = []\n",
    "lngs = []\n",
    "\n",
    "for address in df.Address.tolist()[:69]:\n",
    "    \n",
    "    try: \n",
    "        response = requests.get('https://maps.googleapis.com/maps/api/geocode/json?address=%s+San+Francisco' %address)\n",
    "        responsejson = response.json()\n",
    "\n",
    "        lat = responsejson['results'][0]['geometry']['location']['lat']\n",
    "        lng = responsejson['results'][0]['geometry']['location']['lng']\n",
    "        \n",
    "    except:\n",
    "        lat = 'na'\n",
    "        lng = 'na'\n",
    "        \n",
    "    lats.append(lat)\n",
    "    lngs.append(lng)"
   ]
  },
  {
   "cell_type": "code",
   "execution_count": 89,
   "metadata": {
    "collapsed": false
   },
   "outputs": [],
   "source": [
    "df['lats'] = lats\n",
    "df['lngs'] = lngs"
   ]
  },
  {
   "cell_type": "code",
   "execution_count": 103,
   "metadata": {
    "collapsed": false
   },
   "outputs": [
    {
     "data": {
      "text/html": [
       "\n",
       "        <iframe\n",
       "            width=\"600\"\n",
       "            height=\"500\"\n",
       "            src=\"orsters.html\"\n",
       "            frameborder=\"0\"\n",
       "            allowfullscreen\n",
       "        ></iframe>\n",
       "        "
      ],
      "text/plain": [
       "<IPython.lib.display.IFrame at 0x108b3d7b8>"
      ]
     },
     "execution_count": 103,
     "metadata": {},
     "output_type": "execute_result"
    }
   ],
   "source": [
    "tileset = r'http://tile.stamen.com/toner-lite/{z}/{x}/{y}.png'\n",
    "attribution = 'Map data by OpenStreetMap, under ODbL.'\n",
    "zip_map = folium.Map(location=[37.769230, -122.433810], zoom_start=11, tiles=tileset, attr=attribution)\n",
    "\n",
    "for row_index, row in df.iterrows():\n",
    "    \n",
    "    zip_map.simple_marker([row['lats'],row['lngs']],popup=row['Name'])\n",
    "\n",
    "mappath = 'orsters.html'\n",
    "zip_map.create_map(path=mappath)\n",
    "\n",
    "IFrame(mappath,600,500)"
   ]
  },
  {
   "cell_type": "code",
   "execution_count": null,
   "metadata": {
    "collapsed": true
   },
   "outputs": [],
   "source": []
  }
 ],
 "metadata": {
  "kernelspec": {
   "display_name": "Python 3",
   "language": "python",
   "name": "python3"
  },
  "language_info": {
   "codemirror_mode": {
    "name": "ipython",
    "version": 3
   },
   "file_extension": ".py",
   "mimetype": "text/x-python",
   "name": "python",
   "nbconvert_exporter": "python",
   "pygments_lexer": "ipython3",
   "version": "3.5.0"
  }
 },
 "nbformat": 4,
 "nbformat_minor": 0
}
